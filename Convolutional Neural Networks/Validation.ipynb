{
 "cells": [
  {
   "cell_type": "code",
   "execution_count": null,
   "id": "4bbe9eac-0868-4a1d-a787-1cdc28c0c966",
   "metadata": {},
   "outputs": [],
   "source": [
    "# Tell pytorch to stop computing gradients for the moment\n",
    "# by using the torch.no_grad() context manager\n",
    "with torch.no_grad():\n",
    "\n",
    "  # set the model to evaluation mode\n",
    "  # This changes the behavior of some layers like\n",
    "  # Dropout with respect to their behavior during\n",
    "  # training\n",
    "  model.eval()\n",
    "\n",
    "  # Keep track of the validation loss\n",
    "  valid_loss = 0.0\n",
    "\n",
    "  # Loop over the batches of validation data\n",
    "  # (here we have removed the progress bar display that is\n",
    "  # accomplished using tqdm in the video, for clarity)\n",
    "  for batch_idx, (data, target) in enumerate(valid_dataloader):\n",
    "\n",
    "    # 1. forward pass: compute predicted outputs by passing inputs to the model\n",
    "    output = model(data)\n",
    "\n",
    "    # 2. calculate the loss\n",
    "    loss_value = criterion(output, target)\n",
    "\n",
    "    # Calculate average validation loss\n",
    "    valid_loss = valid_loss + (\n",
    "      (1 / (batch_idx + 1)) * (loss_value.data.item() - valid_loss)\n",
    "    )\n",
    "\n",
    "  # Print the losses \n",
    "  print(f\"Epoch {epoch+1}: training loss {train_loss:.5f}, valid loss {valid_loss:.5f}\")\n"
   ]
  }
 ],
 "metadata": {
  "kernelspec": {
   "display_name": "Python 3 (ipykernel)",
   "language": "python",
   "name": "python3"
  },
  "language_info": {
   "codemirror_mode": {
    "name": "ipython",
    "version": 3
   },
   "file_extension": ".py",
   "mimetype": "text/x-python",
   "name": "python",
   "nbconvert_exporter": "python",
   "pygments_lexer": "ipython3",
   "version": "3.9.12"
  }
 },
 "nbformat": 4,
 "nbformat_minor": 5
}
