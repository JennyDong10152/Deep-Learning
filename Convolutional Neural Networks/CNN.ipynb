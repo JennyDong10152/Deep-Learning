{
 "cells": [
  {
   "cell_type": "markdown",
   "id": "4f4cbf1a-b4df-473f-8936-be478e6e962c",
   "metadata": {},
   "source": [
    "CNNs vs. MLP\n",
    "CNN does don't need to flatten the image, can utilize the spatial structure of images"
   ]
  },
  {
   "cell_type": "markdown",
   "id": "bf0412a2-732d-4025-9401-e9d62d251d22",
   "metadata": {},
   "source": [
    "Characterized by Locally-Connected Layers\n",
    "- layers where neurons are connected to only a limited numbers of input pixels\n",
    "- neurons share their weights, which drastically reduces the number of parameters\n",
    "- capable of extracting spatial and color patterns that characterize different objects"
   ]
  },
  {
   "cell_type": "markdown",
   "id": "4b6cff55-8b65-4835-b07a-3b4b2957f01a",
   "metadata": {},
   "source": [
    "Filter/kernel\n",
    "- \"extract\" the features of an object (for example, edges).\n",
    "- By using multiple different filters the network can learn to recognize complex shapes and objects.\n",
    "- relies on centering a pixel and looking at its surrounding neighbors."
   ]
  },
  {
   "cell_type": "markdown",
   "id": "9e944f6b-4410-4b38-8ba1-ccdfc6e688e8",
   "metadata": {},
   "source": [
    "Frequency in Images\n",
    "- means rate of change\n",
    "- high-frequency image: where the intensity changes a lot. And the level of brightness changes quickly from one pixel to the next.\n",
    "- low-frequency image may be one that is relatively uniform in brightness or changes very slowly\n",
    "\n",
    "Padding - The image is padded with a border of 0's, black pixels.\n",
    "\n",
    "Cropping - Any pixel in the output image which would require values from beyond the edge is skipped. This method can result in the output image being smaller then the input image, with the edges having been cropped.\n",
    "\n",
    "Extension - The nearest border pixels are conceptually extended as far as necessary to provide values for the convolution. Corner pixels are extended in 90° wedges. Other edge pixels are extended in lines."
   ]
  }
 ],
 "metadata": {
  "kernelspec": {
   "display_name": "Python 3 (ipykernel)",
   "language": "python",
   "name": "python3"
  },
  "language_info": {
   "codemirror_mode": {
    "name": "ipython",
    "version": 3
   },
   "file_extension": ".py",
   "mimetype": "text/x-python",
   "name": "python",
   "nbconvert_exporter": "python",
   "pygments_lexer": "ipython3",
   "version": "3.9.12"
  }
 },
 "nbformat": 4,
 "nbformat_minor": 5
}
