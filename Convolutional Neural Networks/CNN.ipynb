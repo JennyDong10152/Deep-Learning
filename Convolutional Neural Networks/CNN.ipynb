{
 "cells": [
  {
   "cell_type": "markdown",
   "id": "4f4cbf1a-b4df-473f-8936-be478e6e962c",
   "metadata": {},
   "source": [
    "CNNs vs. MLP\n",
    "CNN does don't need to flatten the image, can utilize the spatial structure of images"
   ]
  },
  {
   "cell_type": "markdown",
   "id": "bf0412a2-732d-4025-9401-e9d62d251d22",
   "metadata": {},
   "source": [
    "Characterized by Locally-Connected Layers\n",
    "- layers where neurons are connected to only a limited numbers of input pixels\n",
    "- neurons share their weights, which drastically reduces the number of parameters"
   ]
  }
 ],
 "metadata": {
  "kernelspec": {
   "display_name": "Python 3 (ipykernel)",
   "language": "python",
   "name": "python3"
  },
  "language_info": {
   "codemirror_mode": {
    "name": "ipython",
    "version": 3
   },
   "file_extension": ".py",
   "mimetype": "text/x-python",
   "name": "python",
   "nbconvert_exporter": "python",
   "pygments_lexer": "ipython3",
   "version": "3.9.12"
  }
 },
 "nbformat": 4,
 "nbformat_minor": 5
}
