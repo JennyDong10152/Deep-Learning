{
 "cells": [
  {
   "cell_type": "markdown",
   "id": "c609daa2-1be8-4d7d-9c24-3c47347e3d9f",
   "metadata": {},
   "source": [
    "A CNN is a neural network developed specifically for image and video processing. CNNs are used to automate many tasks, for example:\n",
    "\n",
    "Image classification\n",
    "Object recognition\n",
    "Anomaly detection\n",
    "Image captioning"
   ]
  },
  {
   "cell_type": "markdown",
   "id": "e6c27bd3-7360-4973-b3f2-2288a10da43c",
   "metadata": {},
   "source": [
    "Image Classification and the MNIST Dataset\n",
    "MNIST dataset -> for classifying images"
   ]
  }
 ],
 "metadata": {
  "kernelspec": {
   "display_name": "Python 3 (ipykernel)",
   "language": "python",
   "name": "python3"
  },
  "language_info": {
   "codemirror_mode": {
    "name": "ipython",
    "version": 3
   },
   "file_extension": ".py",
   "mimetype": "text/x-python",
   "name": "python",
   "nbconvert_exporter": "python",
   "pygments_lexer": "ipython3",
   "version": "3.9.12"
  }
 },
 "nbformat": 4,
 "nbformat_minor": 5
}
