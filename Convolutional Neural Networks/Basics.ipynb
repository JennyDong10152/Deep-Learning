{
 "cells": [
  {
   "cell_type": "code",
   "execution_count": null,
   "id": "234f1f37-d989-4992-8d99-698f4b34d198",
   "metadata": {},
   "outputs": [],
   "source": []
  }
 ],
 "metadata": {
  "kernelspec": {
   "display_name": "",
   "name": ""
  },
  "language_info": {
   "name": ""
  }
 },
 "nbformat": 4,
 "nbformat_minor": 5
}
