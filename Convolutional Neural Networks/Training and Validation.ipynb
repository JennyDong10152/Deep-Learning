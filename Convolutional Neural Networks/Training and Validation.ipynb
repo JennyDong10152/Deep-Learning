{
 "cells": [
  {
   "cell_type": "code",
   "execution_count": null,
   "id": "c77b602b-e338-42be-98df-ed085b44efb1",
   "metadata": {},
   "outputs": [],
   "source": [
    "import torch.optim\n",
    "\n",
    "optimizer = torch.optim.SGD(model.parameters(), lr=0.01, weight_decay=0)\n"
   ]
  },
  {
   "cell_type": "code",
   "execution_count": null,
   "id": "440a91ca-73f0-46e4-992f-3a1b87565c24",
   "metadata": {},
   "outputs": [],
   "source": [
    "# number of epochs to train the model\n",
    "n_epochs = 50\n",
    "\n",
    "# Set model to training mode\n",
    "# (this changes the behavior of some layers, like Dropout)\n",
    "model.train()\n",
    "\n",
    "# Loop over the epochs\n",
    "for epoch in range(n_epochs):\n",
    "\n",
    "    # monitor training loss\n",
    "    train_loss = 0.0\n",
    "\n",
    "    # Loop over all the dataset using the training\n",
    "    # dataloader\n",
    "    for data, target in train_dataloader:\n",
    "\n",
    "        # clear the gradients of all optimized variables\n",
    "        optimizer.zero_grad()\n",
    "\n",
    "        # forward pass: \n",
    "        # compute predictions\n",
    "        output = model(data)\n",
    "\n",
    "        # calculate the loss which compare the model\n",
    "        # output for the current batch with the relative\n",
    "        # ground truth (the target)\n",
    "        loss = criterion(output, target)\n",
    "\n",
    "        # backward pass: \n",
    "        # compute gradient of the loss with respect to \n",
    "        # model parameters\n",
    "        loss.backward()\n",
    "\n",
    "        # perform a single optimization step (parameter update)\n",
    "        optimizer.step()\n",
    "\n",
    "        # update running training loss\n",
    "        train_loss += loss.item()*data.size(0)\n",
    "\n",
    "    # print training statistics \n",
    "    # calculate average loss over an epoch\n",
    "    train_loss = train_loss/len(train_loader.dataset)"
   ]
  },
  {
   "cell_type": "markdown",
   "id": "a4b4e01a-a04a-4a38-9f13-3cbc7a96faf1",
   "metadata": {},
   "source": [
    "Adding loss: 2 ways\n",
    "the first one "
   ]
  },
  {
   "cell_type": "code",
   "execution_count": null,
   "id": "ab3469b0-f9d5-4520-8779-d5da4e602e1a",
   "metadata": {},
   "outputs": [],
   "source": [
    "from torch import nn\n",
    "\n",
    "loss = nn.CrossEntropyLoss()"
   ]
  }
 ],
 "metadata": {
  "kernelspec": {
   "display_name": "Python 3 (ipykernel)",
   "language": "python",
   "name": "python3"
  },
  "language_info": {
   "codemirror_mode": {
    "name": "ipython",
    "version": 3
   },
   "file_extension": ".py",
   "mimetype": "text/x-python",
   "name": "python",
   "nbconvert_exporter": "python",
   "pygments_lexer": "ipython3",
   "version": "3.9.12"
  }
 },
 "nbformat": 4,
 "nbformat_minor": 5
}
