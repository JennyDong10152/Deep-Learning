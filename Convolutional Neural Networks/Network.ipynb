{
 "cells": [
  {
   "cell_type": "markdown",
   "id": "19eaa4ea-ecc4-47d1-b0e7-a8fd9ee38d70",
   "metadata": {},
   "source": [
    "The __init__ method should initialize all the layers that the model uses\n",
    "The forward method implements a forward pass through the network. Note that the backward pass for backpropagation is executed by PyTorch automatically and does not need to be implemented."
   ]
  },
  {
   "cell_type": "code",
   "execution_count": null,
   "id": "4b08368f-c6be-4d27-82e9-af26050fcec7",
   "metadata": {},
   "outputs": [],
   "source": [
    "import torch\n",
    "import torch.nn as nn\n",
    "\n",
    "class MyModel(nn.Module):\n",
    "\n",
    "  def __init__(self):\n",
    "\n",
    "    super().__init__()\n",
    "\n",
    "    # Create layers. In this case just a standard MLP\n",
    "    self.model = nn.Sequential(\n",
    "      nn.Linear(20, 10),\n",
    "      nn.ReLU(),\n",
    "      nn.Linear(10, 3)\n",
    "    )\n",
    "\n",
    "  def forward(self, x):\n",
    "\n",
    "    # Call the layers in the appropriate sequence\n",
    "    x = self.fc1(x)\n",
    "    x = self.relu1(x)\n",
    "\n",
    "    x = self.fc2(x)\n",
    "\n",
    "    return x\n",
    "model = nn.Sequential()"
   ]
  },
  {
   "cell_type": "markdown",
   "id": "51d832cb-b4c8-4aea-996d-25e2bb749b30",
   "metadata": {},
   "source": [
    "Rules of Thumb\n",
    "1. \n",
    "The number of inputs input_dim is fixed (in the case of MNIST images for example it is 28 x 28 = 784), so the first layer must be a fully-connected layer (Linear in PyTorch) with input_dim as input dimension."
   ]
  },
  {
   "cell_type": "code",
   "execution_count": null,
   "id": "048c5f5b-1e6d-4def-bb28-e6c4ee8a0526",
   "metadata": {},
   "outputs": [],
   "source": []
  }
 ],
 "metadata": {
  "kernelspec": {
   "display_name": "Python 3 (ipykernel)",
   "language": "python",
   "name": "python3"
  },
  "language_info": {
   "codemirror_mode": {
    "name": "ipython",
    "version": 3
   },
   "file_extension": ".py",
   "mimetype": "text/x-python",
   "name": "python",
   "nbconvert_exporter": "python",
   "pygments_lexer": "ipython3",
   "version": "3.9.12"
  }
 },
 "nbformat": 4,
 "nbformat_minor": 5
}
