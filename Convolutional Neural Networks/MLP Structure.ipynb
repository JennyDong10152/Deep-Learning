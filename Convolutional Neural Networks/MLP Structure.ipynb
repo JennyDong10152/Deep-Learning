{
 "cells": [
  {
   "cell_type": "markdown",
   "id": "18d36f3e-08da-487b-82aa-a80c8a70955d",
   "metadata": {},
   "source": [
    "The loss function \n",
    " - quantifies how far we are from the ideal state where the network does not make any mistakes and has perfect confidence in its answers.\n"
   ]
  }
 ],
 "metadata": {
  "kernelspec": {
   "display_name": "Python 3 (ipykernel)",
   "language": "python",
   "name": "python3"
  },
  "language_info": {
   "codemirror_mode": {
    "name": "ipython",
    "version": 3
   },
   "file_extension": ".py",
   "mimetype": "text/x-python",
   "name": "python",
   "nbconvert_exporter": "python",
   "pygments_lexer": "ipython3",
   "version": "3.9.12"
  }
 },
 "nbformat": 4,
 "nbformat_minor": 5
}
