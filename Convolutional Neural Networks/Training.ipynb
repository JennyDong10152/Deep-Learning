{
 "cells": [
  {
   "cell_type": "code",
   "execution_count": null,
   "id": "440a91ca-73f0-46e4-992f-3a1b87565c24",
   "metadata": {},
   "outputs": [],
   "source": []
  }
 ],
 "metadata": {
  "kernelspec": {
   "display_name": "",
   "name": ""
  },
  "language_info": {
   "name": ""
  }
 },
 "nbformat": 4,
 "nbformat_minor": 5
}
