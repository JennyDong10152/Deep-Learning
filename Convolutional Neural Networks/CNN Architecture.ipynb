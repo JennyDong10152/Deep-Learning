{
 "cells": [
  {
   "cell_type": "markdown",
   "id": "3c11388b-f249-491d-b7c8-175edeafdf36",
   "metadata": {},
   "source": [
    "ResNet\n",
    "- skip connection"
   ]
  },
  {
   "cell_type": "code",
   "execution_count": null,
   "id": "bc42fd4f-de2e-4fa1-911d-10311001f376",
   "metadata": {},
   "outputs": [],
   "source": [
    "class ResidualBlock(nn.Module):\n",
    "    def __init__(self, inp, out1, out2):\n",
    "        super().__init__()\n",
    "\n",
    "        self.conv_block = nn.Sequential(\n",
    "            nn.Conv2d(inp, out1, 3),\n",
    "            nn.ReLU(),\n",
    "            nn.Conv2d(out1, out2, 3)\n",
    "        )\n",
    "        self.relu = nn.ReLU()\n",
    "\n",
    "    def forward(self, x):\n",
    "        # F(x)\n",
    "        F = self.conv_block(x)\n",
    "        # IMPORTANT BIT: we sum the result of the\n",
    "        # convolutions to the input image\n",
    "        H = F + x\n",
    "        # Now we apply ReLU and return\n",
    "        return self.relu(H)"
   ]
  }
 ],
 "metadata": {
  "kernelspec": {
   "display_name": "Python 3 (ipykernel)",
   "language": "python",
   "name": "python3"
  },
  "language_info": {
   "codemirror_mode": {
    "name": "ipython",
    "version": 3
   },
   "file_extension": ".py",
   "mimetype": "text/x-python",
   "name": "python",
   "nbconvert_exporter": "python",
   "pygments_lexer": "ipython3",
   "version": "3.9.12"
  }
 },
 "nbformat": 4,
 "nbformat_minor": 5
}
