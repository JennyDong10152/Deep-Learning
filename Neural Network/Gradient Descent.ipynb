{
 "cells": [
  {
   "cell_type": "code",
   "execution_count": 1,
   "id": "70c6856f-4a36-47b8-b4a6-0c50acd3b8e2",
   "metadata": {},
   "outputs": [],
   "source": [
    "# Importing Libraries\n",
    "import numpy as np\n",
    "import matplotlib.pyplot as plt"
   ]
  },
  {
   "cell_type": "code",
   "execution_count": 3,
   "id": "c33c7141-ef23-4204-9ad1-d0051f6f9ef6",
   "metadata": {},
   "outputs": [],
   "source": [
    "def mean_squared_error(y_true, y_predicted):\n",
    "\tcost = np.sum((y_true - y_predicted) ** 2) / len(y_true)\n",
    "\treturn cost"
   ]
  },
  {
   "cell_type": "code",
   "execution_count": 4,
   "id": "6b3b68a1-8285-45b4-8d4d-fb5522c47a7c",
   "metadata": {},
   "outputs": [],
   "source": [
    "def gradient_descent(x, y, iterations = 1000, learning_rate = 0.0001, stopping_threshold = 1e-6):\n",
    "    current_weight = 0.1\n",
    "    current_bias = 0.01\n",
    "    iterations = iterations\n",
    "    learning_rate = learning_rate\n",
    "    n = float(len(x))\n",
    "     \n",
    "    costs = []\n",
    "    weights = []\n",
    "    previous_cost = None\n",
    "     \n",
    "    for i in range(iterations):\n",
    "        y_predicted = (current_weight * x) + current_bias\n",
    "        current_cost = mean_squared_error(y, y_predicted)\n",
    " \n",
    "        # if change in cose <= threshold\n",
    "        if previous_cost and abs(previous_cost-current_cost)<=stopping_threshold:\n",
    "            break\n",
    "\n",
    "        # update\n",
    "        previous_cost = current_cost\n",
    " \n",
    "        costs.append(current_cost)\n",
    "        weights.append(current_weight)\n",
    "         \n",
    "        # to calculate the gradient\n",
    "        weight_derivative = -(2/n) * sum(x * (y-y_predicted))\n",
    "        bias_derivative = -(2/n) * sum(y-y_predicted)\n",
    "         \n",
    "        # update\n",
    "        current_weight = current_weight - (learning_rate * weight_derivative)\n",
    "        current_bias = current_bias - (learning_rate * bias_derivative)\n",
    "     \n",
    "    return current_weight, current_bias"
   ]
  },
  {
   "cell_type": "code",
   "execution_count": null,
   "id": "8cfc52a4-0d01-4a2c-beb8-f10d06adbed5",
   "metadata": {},
   "outputs": [],
   "source": [
    "X = np.array()\n",
    "Y = np.array()\n",
    "\n",
    "# estimated_weight, estimated_bias = gradient_descent(X, Y, iterations=2000)"
   ]
  },
  {
   "cell_type": "code",
   "execution_count": null,
   "id": "699ff71b-532c-4420-a7a7-2c290701a4a8",
   "metadata": {},
   "outputs": [],
   "source": [
    "import numpy as np\n",
    "from data_prep import features, targets, features_test, targets_test\n",
    "\n",
    "def sigmoid(x):\n",
    "    \"\"\"\n",
    "    Calculate sigmoid\n",
    "    \"\"\"\n",
    "    return 1 / (1 + np.exp(-x))"
   ]
  },
  {
   "cell_type": "code",
   "execution_count": null,
   "id": "5ae8ccfa-c068-4a97-b40b-2c9e9d355cf0",
   "metadata": {},
   "outputs": [],
   "source": [
    "def update_weights(weights, features, targets, learnrate):\n",
    "    \"\"\"\n",
    "    Complete a single epoch of gradient descent and return updated weights\n",
    "    \"\"\"\n",
    "    del_w = np.zeros(weights.shape)\n",
    "    # Loop through all records, x is the input, y is the target\n",
    "    for x, y in zip(features.values, targets):\n",
    "        # TODO: Calculate the output of f(h) by passing h (the dot product\n",
    "        # of x and weights) into the activation function (sigmoid).\n",
    "        # Replace None with appropriate code\n",
    "        output = sigmoid(np.dot(x, weights))\n",
    "\n",
    "        # TODO: Calculate the error by subtracting the network output\n",
    "        # from the target (y).\n",
    "        # Replace None with appropriate code\n",
    "        error = y - output\n",
    "\n",
    "        # TODO: Calculate the error term by multiplying the error by the\n",
    "        # gradient. Recall that the gradient of the sigmoid f(h) is\n",
    "        # f(h)*(1−f(h)) so you do not need to call any additional\n",
    "        # functions and can simply apply this formula to the output and\n",
    "        # error you already calculated.\n",
    "        # Replace None with appropriate code\n",
    "        error_term = error * output * (1 - output)\n",
    "        # TODO: Update the weight step by multiplying the error term by\n",
    "        # the input (x) and adding this to the current weight step.\n",
    "        # Replace 0 with appropriate code\n",
    "        del_w += error_term * x\n",
    "\n",
    "    n_records = features.shape[0]\n",
    "    # TODO: Update the weights by adding the learning rate times the\n",
    "    # change in weights divided by the number of records.\n",
    "    # Replace 0 with appropriate code\n",
    "    weights += learnrate * del_w / n_records\n",
    "    \n",
    "    return weights"
   ]
  },
  {
   "cell_type": "code",
   "execution_count": 1,
   "id": "e773de02-dcc2-4b25-9e8e-281db6de640c",
   "metadata": {},
   "outputs": [],
   "source": [
    "def gradient_descent(features, targets, epochs=1000, learnrate=0.5):\n",
    "    \"\"\"\n",
    "    Perform the complete gradient descent process on a given dataset\n",
    "    \"\"\"\n",
    "    # Use to same seed to make debugging easier\n",
    "    np.random.seed(42)\n",
    "    \n",
    "    # Initialize loss and weights\n",
    "    last_loss = None\n",
    "    n_features = features.shape[1]\n",
    "    weights = np.random.normal(scale=1/n_features**.5, size=n_features)\n",
    "\n",
    "    # Repeatedly update the weights based on the number of epochs\n",
    "    for e in range(epochs):\n",
    "        weights = update_weights(weights, features, targets, learnrate)\n",
    "\n",
    "        # Printing out the MSE on the training set every 10 epochs.\n",
    "        # Initially this will print the same loss every time. When all of\n",
    "        # the TODOs are complete, the MSE should decrease with each\n",
    "        # printout\n",
    "        if e % (epochs / 10) == 0:\n",
    "            out = sigmoid(np.dot(features, weights))\n",
    "            loss = np.mean((out - targets) ** 2)\n",
    "            if last_loss and last_loss < loss:\n",
    "                print(\"Train loss: \", loss, \"  WARNING - Loss Increasing\")\n",
    "            else:\n",
    "                print(\"Train loss: \", loss)\n",
    "            last_loss = loss\n",
    "            \n",
    "    return weights"
   ]
  },
  {
   "cell_type": "code",
   "execution_count": 2,
   "id": "793547e4-18f0-4dd1-a843-fed51862830f",
   "metadata": {},
   "outputs": [
    {
     "ename": "NameError",
     "evalue": "name 'features' is not defined",
     "output_type": "error",
     "traceback": [
      "\u001b[0;31m---------------------------------------------------------------------------\u001b[0m",
      "\u001b[0;31mNameError\u001b[0m                                 Traceback (most recent call last)",
      "Input \u001b[0;32mIn [2]\u001b[0m, in \u001b[0;36m<cell line: 2>\u001b[0;34m()\u001b[0m\n\u001b[1;32m      1\u001b[0m \u001b[38;5;66;03m# Calculate accuracy on test data\u001b[39;00m\n\u001b[0;32m----> 2\u001b[0m weights \u001b[38;5;241m=\u001b[39m gradient_descent(\u001b[43mfeatures\u001b[49m, targets)\n\u001b[1;32m      3\u001b[0m tes_out \u001b[38;5;241m=\u001b[39m sigmoid(np\u001b[38;5;241m.\u001b[39mdot(features_test, weights))\n\u001b[1;32m      4\u001b[0m predictions \u001b[38;5;241m=\u001b[39m tes_out \u001b[38;5;241m>\u001b[39m \u001b[38;5;241m0.5\u001b[39m\n",
      "\u001b[0;31mNameError\u001b[0m: name 'features' is not defined"
     ]
    }
   ],
   "source": [
    "# Calculate accuracy on test data\n",
    "weights = gradient_descent(features, targets)\n",
    "tes_out = sigmoid(np.dot(features_test, weights))\n",
    "predictions = tes_out > 0.5\n",
    "accuracy = np.mean(predictions == targets_test)\n",
    "print(\"Prediction accuracy: {:.3f}\".format(accuracy))"
   ]
  },
  {
   "cell_type": "code",
   "execution_count": null,
   "id": "74d421ae-9b10-49f1-aa20-6989da34b8ab",
   "metadata": {},
   "outputs": [],
   "source": []
  }
 ],
 "metadata": {
  "kernelspec": {
   "display_name": "Python 3 (ipykernel)",
   "language": "python",
   "name": "python3"
  },
  "language_info": {
   "codemirror_mode": {
    "name": "ipython",
    "version": 3
   },
   "file_extension": ".py",
   "mimetype": "text/x-python",
   "name": "python",
   "nbconvert_exporter": "python",
   "pygments_lexer": "ipython3",
   "version": "3.9.12"
  }
 },
 "nbformat": 4,
 "nbformat_minor": 5
}
