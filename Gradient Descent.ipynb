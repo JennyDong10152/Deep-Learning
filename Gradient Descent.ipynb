{
 "cells": [
  {
   "cell_type": "code",
   "execution_count": 1,
   "id": "70c6856f-4a36-47b8-b4a6-0c50acd3b8e2",
   "metadata": {},
   "outputs": [],
   "source": [
    "# Importing Libraries\n",
    "import numpy as np\n",
    "import matplotlib.pyplot as plt"
   ]
  },
  {
   "cell_type": "code",
   "execution_count": 3,
   "id": "c33c7141-ef23-4204-9ad1-d0051f6f9ef6",
   "metadata": {},
   "outputs": [],
   "source": [
    "def mean_squared_error(y_true, y_predicted):\n",
    "\tcost = np.sum((y_true - y_predicted) ** 2) / len(y_true)\n",
    "\treturn cost"
   ]
  },
  {
   "cell_type": "code",
   "execution_count": null,
   "id": "6b3b68a1-8285-45b4-8d4d-fb5522c47a7c",
   "metadata": {},
   "outputs": [],
   "source": [
    "def gradient_descent(x, y, iterations = 1000, learning_rate = 0.0001, stopping_threshold = 1e-6):\n",
    "    current_weight = 0.1\n",
    "    current_bias = 0.01\n",
    "    iterations = iterations\n",
    "    learning_rate = learning_rate\n",
    "    n = float(len(x))\n",
    "     \n",
    "    costs = []\n",
    "    weights = []\n",
    "    previous_cost = None\n",
    "     \n",
    "    for i in range(iterations):\n",
    "        y_predicted = (current_weight * x) + current_bias\n",
    "        current_cost = mean_squared_error(y, y_predicted)\n",
    " \n",
    "        # if change in cose <= threshold\n",
    "        if previous_cost and abs(previous_cost-current_cost)<=stopping_threshold:\n",
    "            break\n",
    "         \n",
    "        previous_cost = current_cost\n",
    " \n",
    "        costs.append(current_cost)\n",
    "        weights.append(current_weight)\n",
    "         \n",
    "        # Calculating the gradients\n",
    "        weight_derivative = -(2/n) * sum(x * (y-y_predicted))\n",
    "        bias_derivative = -(2/n) * sum(y-y_predicted)\n",
    "         \n",
    "        # Updating weights and bias\n",
    "        current_weight = current_weight - (learning_rate * weight_derivative)\n",
    "        current_bias = current_bias - (learning_rate * bias_derivative)\n",
    "                 \n",
    "        # Printing the parameters for each 1000th iteration\n",
    "        print(f\"Iteration {i+1}: Cost {current_cost}, Weight \\\n",
    "        {current_weight}, Bias {current_bias}\")\n",
    "     \n",
    "     \n",
    "    # Visualizing the weights and cost at for all iterations\n",
    "    plt.figure(figsize = (8,6))\n",
    "    plt.plot(weights, costs)\n",
    "    plt.scatter(weights, costs, marker='o', color='red')\n",
    "    plt.title(\"Cost vs Weights\")\n",
    "    plt.ylabel(\"Cost\")\n",
    "    plt.xlabel(\"Weight\")\n",
    "    plt.show()\n",
    "     \n",
    "    return current_weight, current_bias"
   ]
  }
 ],
 "metadata": {
  "kernelspec": {
   "display_name": "Python 3 (ipykernel)",
   "language": "python",
   "name": "python3"
  },
  "language_info": {
   "codemirror_mode": {
    "name": "ipython",
    "version": 3
   },
   "file_extension": ".py",
   "mimetype": "text/x-python",
   "name": "python",
   "nbconvert_exporter": "python",
   "pygments_lexer": "ipython3",
   "version": "3.9.12"
  }
 },
 "nbformat": 4,
 "nbformat_minor": 5
}
